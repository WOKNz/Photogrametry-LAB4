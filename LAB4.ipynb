{
 "cells": [
  {
   "cell_type": "markdown",
   "source": [
    "Import"
   ],
   "metadata": {
    "collapsed": false,
    "pycharm": {
     "name": "#%% md\n"
    }
   }
  },
  {
   "cell_type": "code",
   "execution_count": 187,
   "outputs": [],
   "source": [
    "import numpy as np\n",
    "import json\n",
    "import cv2\n",
    "import matplotlib.pyplot as plt\n",
    "from mpl_toolkits import mplot3d\n",
    "import pandas as pd"
   ],
   "metadata": {
    "collapsed": false,
    "pycharm": {
     "name": "#%%\n",
     "is_executing": false
    }
   }
  },
  {
   "cell_type": "markdown",
   "source": [
    "Load files"
   ],
   "metadata": {
    "collapsed": false
   }
  },
  {
   "cell_type": "code",
   "execution_count": 188,
   "outputs": [],
   "source": [
    "with open('IMG_1753.json') as json_data:\n",
    "    data = json.load(json_data)\n",
    "\n",
    "\n",
    "p1753 = np.zeros((len(data['vertices']), 2))\n",
    "\n",
    "for i in range(0,len(data['vertices']),1):\n",
    "    p1753[i,:] = data['vertices'][i]['point']\n",
    "\n",
    "with open('IMG_1754.json') as json_data:\n",
    "    data = json.load(json_data)\n",
    "\n",
    "\n",
    "p1754 = np.zeros((len(data['vertices']), 2))\n",
    "\n",
    "for i in range(0,len(data['vertices']),1):\n",
    "    p1754[i,:] = data['vertices'][i]['point']\n",
    "\n",
    "with open('IMG_1948.json') as json_data:\n",
    "    data = json.load(json_data)\n",
    "\n",
    "\n",
    "p1948 = np.zeros((len(data['vertices']), 2))\n",
    "\n",
    "for i in range(0,len(data['vertices']),1):\n",
    "    p1948[i,:] = data['vertices'][i]['point']\n",
    "\n",
    "calib = np.genfromtxt('camcalib.csv', delimiter=',')\n",
    "f1 = calib[0,0]\n",
    "f2 = calib[2,0]"
   ],
   "metadata": {
    "collapsed": false,
    "pycharm": {
     "name": "#%%\n",
     "is_executing": false
    }
   }
  },
  {
   "cell_type": "markdown",
   "source": [
    "Deleting Hidden Points"
   ],
   "metadata": {
    "collapsed": false
   }
  },
  {
   "cell_type": "code",
   "execution_count": 189,
   "outputs": [],
   "source": [
    "p1948 = np.delete(p1948, 14, 0)\n",
    "p1948 = np.delete(p1948, 14, 0)"
   ],
   "metadata": {
    "collapsed": false,
    "pycharm": {
     "name": "#%%\n",
     "is_executing": false
    }
   }
  },
  {
   "cell_type": "markdown",
   "source": [
    "Transforming points"
   ],
   "metadata": {
    "collapsed": false
   }
  },
  {
   "cell_type": "code",
   "execution_count": 190,
   "outputs": [],
   "source": [
    "img1753 = cv2.imread('IMG_1753.jpg')\n",
    "img1754 = cv2.imread('IMG_1754.jpg')\n",
    "img1948 = cv2.imread('IMG_1948.jpg')\n",
    "def one(scalar,vector):\n",
    "    \"\"\"\n",
    "    np.ones(Vector.length,1)*scalar - Vector \n",
    "    :param scalar: \n",
    "    :param vector: \n",
    "    :return: \n",
    "    \"\"\"\n",
    "    return np.ones((vector.shape[0],1))*scalar-vector\n",
    "    \n",
    "def fixor(points,vsize,center):\n",
    "    \"\"\"\n",
    "    Fixing system of picture\n",
    "    :param points: pre transformed points in picture system\n",
    "    :param vsize: vertical size of the picture\n",
    "    :param center: center of the optics on picture\n",
    "    :return: \n",
    "    \"\"\"\n",
    "    return np.hstack((points[:,0][None].T-center[0]*np.ones((points.shape[0],1)), \\\n",
    "                     one(vsize,points[:,1][None].T)-center[1]*np.ones((points.shape[0],1))))\n",
    "                     \n",
    "p1753_new = fixor(p1753, img1753.shape[0], calib[0,1:3])\n",
    "p1754_new = fixor(p1754, img1754.shape[0], calib[0,1:3])\n",
    "p1948_new = fixor(p1948, img1948.shape[0], calib[1,1:3])"
   ],
   "metadata": {
    "collapsed": false,
    "pycharm": {
     "name": "#%%\n",
     "is_executing": false
    }
   }
  },
  {
   "cell_type": "markdown",
   "source": [
    "Calculate Air Base"
   ],
   "metadata": {
    "collapsed": false
   }
  },
  {
   "cell_type": "code",
   "execution_count": 191,
   "outputs": [
    {
     "name": "stdout",
     "text": [
      "B1= 0.444 m\nB2= 0.591 m\n"
     ],
     "output_type": "stream"
    }
   ],
   "source": [
    "def ab(d,f1,f2,xy1,xy2,xy3,xy4):\n",
    "    \"\"\"\n",
    "    Function of air base calculating\n",
    "    :param d: Measured size of a line in world\n",
    "    :param f1: Focal length of camera 1\n",
    "    :param f2: Focal length of camera 2\n",
    "    :param xy1: Closest point of line to picture center of pic1\n",
    "    :param xy2: Far point of line to picture center of pic1\n",
    "    :param xy3: Closest point of line to picture center of pic2\n",
    "    :param xy4: Far point of line to picture center of pic2\n",
    "    :return: \n",
    "    \"\"\"\n",
    "    px1 = np.sqrt((xy2[0]-xy1[0])**2+(xy2[1]-xy1[1])**2)\n",
    "    px2 = np.sqrt((xy4[0]-xy3[0])**2+(xy4[1]-xy3[1])**2)\n",
    "    \n",
    "    # px1 = np.sqrt((xy2[0])**2+(xy2[1])**2)-np.sqrt((xy1[0])**2+(xy1[1])**2)\n",
    "    # px2 = np.sqrt((xy4[0])**2+(xy4[1])**2)-np.sqrt((xy3[0])**2+(xy3[1])**2)\n",
    "    \n",
    "    \n",
    "    a1 =f1/px1-f2/px2\n",
    "    a2 =xy2[0]/px1-xy4[0]/px2\n",
    "    a3 =xy2[1]/px1-xy4[1]/px2\n",
    "    \n",
    "    return np.sqrt(a1**2+a2**2+a3**2)\n",
    "\n",
    "b1 = ab(0.24, f1, f2, p1753_new[6,:], p1948_new[6,:], p1753_new[9,:], p1948_new[9,:])\n",
    "b2 = ab(0.24, f1, f2, p1754_new[6,:], p1948_new[6,:], p1754_new[9,:], p1948_new[9,:])\n",
    "\n",
    "print('B1=',np.round(b1,3),'m\\nB2=',np.round(b2,3),'m')"
   ],
   "metadata": {
    "collapsed": false,
    "pycharm": {
     "name": "#%%\n",
     "is_executing": false
    }
   }
  },
  {
   "cell_type": "markdown",
   "source": [
    "Calculating XYH"
   ],
   "metadata": {
    "collapsed": false
   }
  },
  {
   "cell_type": "code",
   "execution_count": 193,
   "outputs": [],
   "source": [
    "def Stero3DCompute(b,f,points,points2):\n",
    "    \"\"\"\n",
    "    Calculating XYH of points from points taken by parallel face cameras\n",
    "    :param b1: Air base\n",
    "    :param f1: Focal length camera 1\n",
    "    :param points: Points on picture from camera 1\n",
    "    :param points2: Points on picture from camera 2\n",
    "    :return: \n",
    "    \"\"\"\n",
    "    def px(xy1,xy2):\n",
    "        \"\"\"\n",
    "        Calculating parallax angle\n",
    "        :param xy1: Point from picture 1\n",
    "        :param xy2: Point from picture 2\n",
    "        :return: \n",
    "        \"\"\"\n",
    "        return np.sqrt((xy2[0]-xy1[0])**2+(xy2[1]-xy1[1])**2)\n",
    "        \n",
    "    result = np.zeros((points.shape[0],3)) \n",
    "    for i in range(points.shape[0]):\n",
    "        result[i,2] = b*(f/px(points[i],points2[i]))\n",
    "        #print(px(points2[i],points[i]))\n",
    "        result[i,0] = result[i,2]*points[i,0]/f\n",
    "        result[i,1] = result[i,2]*points[i,1]/f\n",
    "    return result\n",
    "\n",
    "plocations = Stero3DCompute(b1,f1,p1948_new, p1753_new)\n",
    "plocations2 = Stero3DCompute(b2,f2, p1948_new, p1754_new)"
   ],
   "metadata": {
    "collapsed": false,
    "pycharm": {
     "name": "#%%\n",
     "is_executing": false
    }
   }
  },
  {
   "cell_type": "markdown",
   "source": [
    "Plot XYH"
   ],
   "metadata": {
    "collapsed": false
   }
  },
  {
   "cell_type": "code",
   "execution_count": 196,
   "outputs": [
    {
     "data": {
      "text/plain": "Text(0.5, 0, 'H Label')"
     },
     "metadata": {},
     "output_type": "execute_result",
     "execution_count": 196
    },
    {
     "data": {
      "text/plain": "<Figure size 432x288 with 1 Axes>",
      "image/png": "[encoded data removed]"
     },
     "metadata": {
      "needs_background": "light"
     },
     "output_type": "display_data"
    }
   ],
   "source": [
    "fig = plt.figure()\n",
    "ax = plt.axes(projection='3d')\n",
    "ax.view_init(90, -90)\n",
    "\n",
    "for i in range(0,plocations2.shape[0]-11,2):\n",
    "    ax.plot([plocations2[i,0],plocations2[i+1,0]], \\\n",
    "               [plocations2[i,1],plocations2[i+1,1]], \\\n",
    "               [plocations2[i,2],plocations2[i+1,2]])\n",
    "for i in range(12,plocations2.shape[0]-1,2):\n",
    "    ax.plot([plocations2[i,0],plocations2[i+1,0]], \\\n",
    "               [plocations2[i,1],plocations2[i+1,1]], \\\n",
    "               [plocations2[i,2],plocations2[i+1,2]])\n",
    "for i in [[0,2],[1,3],[4,6],[5,7],[4,8],[6,9],[7,10],[8,9],[9,10]]:\n",
    "    ax.plot([plocations2[i[0],0],plocations2[i[1],0]], \\\n",
    "               [plocations2[i[0],1],plocations2[i[1],1]], \\\n",
    "               [plocations2[i[0],2],plocations2[i[1],2]])\n",
    "\n",
    "ax.set_xlabel('X Label')\n",
    "ax.set_ylabel('Y Label')\n",
    "ax.set_zlabel('H Label')\n",
    "#plt.axis('equal')\n"
   ],
   "metadata": {
    "collapsed": false,
    "pycharm": {
     "name": "#%%\n",
     "is_executing": false
    }
   }
  },
  {
   "cell_type": "markdown",
   "source": [
    "XYH Results"
   ],
   "metadata": {
    "collapsed": false
   }
  },
  {
   "cell_type": "code",
   "execution_count": 197,
   "outputs": [
    {
     "name": "stdout",
     "text": [
      "           X         Y         H\n0  -0.272124  0.188407  1.444639\n1  -0.235437  0.190222  1.513304\n2  -0.093307 -0.004355  1.405032\n3  -0.061420 -0.003162  1.466710\n4  -0.222823 -0.208585  1.360050\n5  -0.195324 -0.203313  1.433731\n6  -0.129124 -0.212859  1.346497\n7  -0.103172 -0.206711  1.413033\n8  -0.225498 -0.407697  1.360704\n9  -0.132657 -0.409566  1.343671\n10 -0.103845 -0.405035  1.417674\n11 -0.362267 -0.004018  1.403083\n12 -0.274384 -0.004763  1.428027\n13 -0.278725 -0.398603  1.433023\n14 -0.241671 -0.006850  1.441872\n15 -0.243951 -0.397586  1.445303\n16 -0.353130 -0.209490  1.337155\n17 -0.354839 -0.410688  1.332910\n18 -0.406801 -0.203203  1.349873\n19 -0.307123 -0.204467  1.366838\n20 -0.446570  0.002042  1.477212\n           X         Y         H\n0  -0.483938  0.335058  2.569418\n1  -0.416279  0.336333  2.676008\n2  -0.166273 -0.007761  2.504061\n3  -0.108860 -0.005605  2.599878\n4  -0.395835 -0.370542  2.416354\n5  -0.345028 -0.359140  2.532906\n6  -0.230600 -0.380140  2.404964\n7  -0.183239 -0.367130  2.509923\n8  -0.402562 -0.727824  2.429434\n9  -0.235998 -0.728623  2.390693\n10 -0.184090 -0.718018  2.513458\n11 -0.642613 -0.007128  2.489182\n12 -0.485919 -0.008436  2.529257\n13 -0.494408 -0.707050  2.542234\n14 -0.428104 -0.012135  2.554492\n15 -0.431231 -0.702813  2.555168\n16 -0.621408 -0.368642  2.353294\n17 -0.630878 -0.730173  2.370101\n18 -0.723397 -0.361348  2.400713\n19 -0.547622 -0.364579  2.437460\n20 -0.791669  0.003620  2.619082\n"
     ],
     "output_type": "stream"
    }
   ],
   "source": [
    "df1 = pd.DataFrame(plocations)\n",
    "df1.columns = ['X', 'Y', 'H']\n",
    "print(df1)\n",
    "df2 = pd.DataFrame(plocations2)\n",
    "df2.columns = ['X', 'Y', 'H']\n",
    "print(df2)\n"
   ],
   "metadata": {
    "collapsed": false,
    "pycharm": {
     "name": "#%%\n",
     "is_executing": false
    }
   }
  },
  {
   "cell_type": "code",
   "execution_count": null,
   "outputs": [],
   "source": [
    "\n",
    "\n"
   ],
   "metadata": {
    "collapsed": false,
    "pycharm": {
     "name": "#%%\n"
    }
   }
  }
 ],
 "metadata": {
  "kernelspec": {
   "display_name": "Python 3",
   "language": "python",
   "name": "python3"
  },
  "language_info": {
   "codemirror_mode": {
    "name": "ipython",
    "version": 2
   },
   "file_extension": ".py",
   "mimetype": "text/x-python",
   "name": "python",
   "nbconvert_exporter": "python",
   "pygments_lexer": "ipython2",
   "version": "2.7.6"
  },
  "pycharm": {
   "stem_cell": {
    "cell_type": "raw",
    "source": [],
    "metadata": {
     "collapsed": false
    }
   }
  }
 },
 "nbformat": 4,
 "nbformat_minor": 0
}