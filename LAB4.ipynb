{
 "cells": [
  {
   "cell_type": "markdown",
   "source": [
    "Import"
   ],
   "metadata": {
    "collapsed": false,
    "pycharm": {
     "name": "#%% md\n"
    }
   }
  },
  {
   "cell_type": "code",
   "execution_count": 38,
   "outputs": [],
   "source": [
    "import numpy as np\n",
    "import json\n",
    "import cv2"
   ],
   "metadata": {
    "collapsed": false,
    "pycharm": {
     "name": "#%%\n",
     "is_executing": false
    }
   }
  },
  {
   "cell_type": "markdown",
   "source": [
    "Load files"
   ],
   "metadata": {
    "collapsed": false,
    "pycharm": {
     "name": "#%% md\n"
    }
   }
  },
  {
   "cell_type": "code",
   "execution_count": 39,
   "outputs": [],
   "source": [
    "with open('IMG_1753.json') as json_data:\n",
    "    data = json.load(json_data)\n",
    "\n",
    "\n",
    "p1753 = np.zeros((len(data['vertices']), 2))\n",
    "\n",
    "for i in range(0,len(data['vertices']),1):\n",
    "    p1753[i,:] = data['vertices'][i]['point']\n",
    "\n",
    "with open('IMG_1754.json') as json_data:\n",
    "    data = json.load(json_data)\n",
    "\n",
    "\n",
    "p1754 = np.zeros((len(data['vertices']), 2))\n",
    "\n",
    "for i in range(0,len(data['vertices']),1):\n",
    "    p1754[i,:] = data['vertices'][i]['point']\n",
    "\n",
    "with open('IMG_1948.json') as json_data:\n",
    "    data = json.load(json_data)\n",
    "\n",
    "\n",
    "p1948 = np.zeros((len(data['vertices']), 2))\n",
    "\n",
    "for i in range(0,len(data['vertices']),1):\n",
    "    p1948[i,:] = data['vertices'][i]['point']\n",
    "\n",
    "calib = np.genfromtxt('camcalib.csv', delimiter=',')\n",
    "f1 = calib[0,0]\n",
    "f2 = calib[2,0]"
   ],
   "metadata": {
    "collapsed": false,
    "pycharm": {
     "name": "#%%\n",
     "is_executing": false
    }
   }
  },
  {
   "cell_type": "markdown",
   "source": [
    "Deleting Hidden Points"
   ],
   "metadata": {
    "collapsed": false,
    "pycharm": {
     "name": "#%% md\n"
    }
   }
  },
  {
   "cell_type": "code",
   "execution_count": 40,
   "outputs": [],
   "source": [
    "p1948 = np.delete(p1948, 14, 0)\n",
    "p1948 = np.delete(p1948, 14, 0)"
   ],
   "metadata": {
    "collapsed": false,
    "pycharm": {
     "name": "#%%\n",
     "is_executing": false
    }
   }
  },
  {
   "cell_type": "markdown",
   "source": [
    "Transforming points"
   ],
   "metadata": {
    "collapsed": false,
    "pycharm": {
     "name": "#%% md\n"
    }
   }
  },
  {
   "cell_type": "code",
   "execution_count": 41,
   "outputs": [],
   "source": [
    "img1753 = cv2.imread('IMG_1753.jpg')\n",
    "img1754 = cv2.imread('IMG_1754.jpg')\n",
    "img1948 = cv2.imread('IMG_1948.jpg')\n",
    "def one(scalar,vector):\n",
    "    \"\"\"\n",
    "    np.ones(Vector.length,1)*scalar - Vector \n",
    "    :param scalar: \n",
    "    :param vector: \n",
    "    :return: \n",
    "    \"\"\"\n",
    "    return np.ones((vector.shape[0],1))*scalar-vector\n",
    "    \n",
    "def fixor(points,vsize,center):\n",
    "    \"\"\"\n",
    "    Fixing system of picture\n",
    "    :param points: pre transformed points in picture system\n",
    "    :param vsize: vertical size of the picture\n",
    "    :param center: center of the optics on picture\n",
    "    :return: \n",
    "    \"\"\"\n",
    "    return np.hstack((points[:,0][None].T-center[0]*np.ones((points.shape[0],1)), \\\n",
    "                     one(vsize,points[:,1][None].T)-center[1]*np.ones((points.shape[0],1))))\n",
    "                     \n",
    "p1753_new = fixor(p1753, img1753.shape[0], calib[0,1:3])\n",
    "p1754_new = fixor(p1754, img1754.shape[0], calib[0,1:3])\n",
    "p1948_new = fixor(p1753, img1948.shape[0], calib[1,1:3])"
   ],
   "metadata": {
    "collapsed": false,
    "pycharm": {
     "name": "#%%\n",
     "is_executing": false
    }
   }
  },
  {
   "cell_type": "markdown",
   "source": [
    "Calculate Air Base"
   ],
   "metadata": {
    "collapsed": false,
    "pycharm": {
     "name": "#%% md\n"
    }
   }
  },
  {
   "cell_type": "code",
   "execution_count": 42,
   "outputs": [],
   "source": [
    "def ab(d,f1,f2,xy1,xy2,xy3,xy4):\n",
    "    \"\"\"\n",
    "    Function of air base calculating\n",
    "    :param d: Measured size of a line in world\n",
    "    :param f1: Focal length of camera 1\n",
    "    :param f2: Focal length of camera 2\n",
    "    :param xy1: Closest point of line to picture center of pic1\n",
    "    :param xy2: Far point of line to picture center of pic1\n",
    "    :param xy3: Closest point of line to picture center of pic2\n",
    "    :param xy4: Far point of line to picture center of pic2\n",
    "    :return: \n",
    "    \"\"\"\n",
    "    px1 = np.sqrt((xy2[0]-xy1[0])**2+(xy2[1]-xy1[1])**2)\n",
    "    px2 = np.sqrt((xy4[0]-xy3[0])**2+(xy4[1]-xy3[1])**2)\n",
    "    \n",
    "    # px1 = np.sqrt((xy2[0])**2+(xy2[1])**2)-np.sqrt((xy1[0])**2+(xy1[1])**2)\n",
    "    # px2 = np.sqrt((xy4[0])**2+(xy4[1])**2)-np.sqrt((xy3[0])**2+(xy3[1])**2)\n",
    "    \n",
    "    \n",
    "    a1 =f1/px1-f2/px2\n",
    "    a2 =xy2[0]/px1-xy4[0]/px2\n",
    "    a3 =xy2[1]/px1-xy4[1]/px2\n",
    "    \n",
    "    return np.sqrt(a1**2+a2**2+a3**2)\n",
    "\n",
    "b1 = ab(0.24, f1, f2, p1753_new[6,:], p1753_new[9,:], p1948_new[6,:], p1948_new[9,:])\n",
    "b2 = ab(0.24, f1, f2, p1754_new[6,:], p1754_new[9,:], p1948_new[6,:], p1948_new[9,:])\n",
    "    "
   ],
   "metadata": {
    "collapsed": false,
    "pycharm": {
     "name": "#%%\n",
     "is_executing": false
    }
   }
  },
  {
   "cell_type": "code",
   "execution_count": null,
   "outputs": [],
   "source": [
    "\n"
   ],
   "metadata": {
    "collapsed": false,
    "pycharm": {
     "name": "#%%\n",
     "is_executing": false
    }
   }
  }
 ],
 "metadata": {
  "kernelspec": {
   "display_name": "Python 3",
   "language": "python",
   "name": "python3"
  },
  "language_info": {
   "codemirror_mode": {
    "name": "ipython",
    "version": 2
   },
   "file_extension": ".py",
   "mimetype": "text/x-python",
   "name": "python",
   "nbconvert_exporter": "python",
   "pygments_lexer": "ipython2",
   "version": "2.7.6"
  },
  "pycharm": {
   "stem_cell": {
    "cell_type": "raw",
    "source": [],
    "metadata": {
     "collapsed": false
    }
   }
  }
 },
 "nbformat": 4,
 "nbformat_minor": 0
}